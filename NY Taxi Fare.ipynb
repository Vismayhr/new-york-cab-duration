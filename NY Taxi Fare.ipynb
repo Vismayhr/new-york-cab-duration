{
 "cells": [
  {
   "cell_type": "markdown",
   "metadata": {},
   "source": [
    "<b>Competition:</b> https://www.kaggle.com/c/nyc-taxi-trip-duration/overview <br>\n",
    "\n",
    "<b>My learnings:</b><br>\n",
    "<li> Encoding time as sin and cos functions: https://ianlondon.github.io/blog/encoding-cyclical-features-24hour-time/ and https://www.kaggle.com/avanwyk/encoding-cyclical-features-for-deep-learning (very good resource)\n",
    "<li> datetime formats in python: http://strftime.org/"
   ]
  },
  {
   "cell_type": "code",
   "execution_count": 1,
   "metadata": {},
   "outputs": [],
   "source": [
    "import numpy as np\n",
    "import pandas as pd\n",
    "import matplotlib.pyplot as plt\n",
    "from sklearn.preprocessing import OneHotEncoder\n",
    "from datetime import datetime\n",
    "from sklearn.neighbors import DistanceMetric\n",
    "from sklearn.model_selection import train_test_split\n",
    "from sklearn.linear_model import LinearRegression\n",
    "from sklearn.model_selection import cross_val_score\n",
    "from sklearn.model_selection import GridSearchCV\n",
    "from sklearn.neural_network import MLPRegressor\n",
    "from sklearn.tree import DecisionTreeRegressor\n",
    "from sklearn.ensemble import RandomForestRegressor\n",
    "from sklearn.metrics import mean_squared_error\n",
    "from sklearn.metrics import mean_absolute_error\n",
    "import seaborn as sns\n",
    "from datetime import datetime\n",
    "\n",
    "import warnings\n",
    "warnings.filterwarnings('ignore')"
   ]
  },
  {
   "cell_type": "code",
   "execution_count": 2,
   "metadata": {},
   "outputs": [
    {
     "name": "stdout",
     "output_type": "stream",
     "text": [
      "Original shape of dataset: (1458644, 11)\n",
      "Shape of subset dataset: (145864, 11)\n"
     ]
    }
   ],
   "source": [
    "# This method creates a subset of the dataset and writes it to train_subset.csv\n",
    "# This is done as the entire data set is too vast\n",
    "original_dataset_csv = \"../Datasets/train.csv\"\n",
    "subset_dataset_csv = \"../Datasets/train_subset.csv\"\n",
    "def create_subset_of_dataset():\n",
    "    df = pd.read_csv(original_dataset_csv)\n",
    "    print(f\"Original shape of dataset: {df.shape}\")\n",
    "    sample_size = int(df.shape[0] * 0.1)\n",
    "    df_subset = df.sample(n=sample_size)\n",
    "    print(f\"Shape of subset dataset: {df_subset.shape}\")\n",
    "    df_subset.to_csv(subset_dataset_csv)\n",
    "    #print(\"Now, open the csv file and delete the first (unnamed) column!\")\n",
    "\n",
    "create_subset_of_dataset()"
   ]
  },
  {
   "cell_type": "code",
   "execution_count": 3,
   "metadata": {
    "scrolled": true
   },
   "outputs": [
    {
     "data": {
      "text/html": [
       "<div>\n",
       "<style scoped>\n",
       "    .dataframe tbody tr th:only-of-type {\n",
       "        vertical-align: middle;\n",
       "    }\n",
       "\n",
       "    .dataframe tbody tr th {\n",
       "        vertical-align: top;\n",
       "    }\n",
       "\n",
       "    .dataframe thead th {\n",
       "        text-align: right;\n",
       "    }\n",
       "</style>\n",
       "<table border=\"1\" class=\"dataframe\">\n",
       "  <thead>\n",
       "    <tr style=\"text-align: right;\">\n",
       "      <th></th>\n",
       "      <th>Unnamed: 0</th>\n",
       "      <th>id</th>\n",
       "      <th>vendor_id</th>\n",
       "      <th>pickup_datetime</th>\n",
       "      <th>dropoff_datetime</th>\n",
       "      <th>passenger_count</th>\n",
       "      <th>pickup_longitude</th>\n",
       "      <th>pickup_latitude</th>\n",
       "      <th>dropoff_longitude</th>\n",
       "      <th>dropoff_latitude</th>\n",
       "      <th>store_and_fwd_flag</th>\n",
       "      <th>trip_duration</th>\n",
       "    </tr>\n",
       "  </thead>\n",
       "  <tbody>\n",
       "    <tr>\n",
       "      <th>0</th>\n",
       "      <td>133824</td>\n",
       "      <td>id3174676</td>\n",
       "      <td>2</td>\n",
       "      <td>2016-01-02 18:09:46</td>\n",
       "      <td>2016-01-02 18:20:39</td>\n",
       "      <td>1</td>\n",
       "      <td>-73.985878</td>\n",
       "      <td>40.745041</td>\n",
       "      <td>-74.007378</td>\n",
       "      <td>40.727280</td>\n",
       "      <td>N</td>\n",
       "      <td>653</td>\n",
       "    </tr>\n",
       "    <tr>\n",
       "      <th>1</th>\n",
       "      <td>923482</td>\n",
       "      <td>id1536515</td>\n",
       "      <td>1</td>\n",
       "      <td>2016-02-20 02:01:14</td>\n",
       "      <td>2016-02-20 02:14:35</td>\n",
       "      <td>1</td>\n",
       "      <td>-73.993668</td>\n",
       "      <td>40.741623</td>\n",
       "      <td>-73.952652</td>\n",
       "      <td>40.791012</td>\n",
       "      <td>Y</td>\n",
       "      <td>801</td>\n",
       "    </tr>\n",
       "    <tr>\n",
       "      <th>2</th>\n",
       "      <td>244194</td>\n",
       "      <td>id0509364</td>\n",
       "      <td>1</td>\n",
       "      <td>2016-01-21 09:32:22</td>\n",
       "      <td>2016-01-21 09:47:44</td>\n",
       "      <td>1</td>\n",
       "      <td>-73.954178</td>\n",
       "      <td>40.770271</td>\n",
       "      <td>-73.965828</td>\n",
       "      <td>40.759613</td>\n",
       "      <td>N</td>\n",
       "      <td>922</td>\n",
       "    </tr>\n",
       "    <tr>\n",
       "      <th>3</th>\n",
       "      <td>1416196</td>\n",
       "      <td>id3372978</td>\n",
       "      <td>1</td>\n",
       "      <td>2016-01-04 21:18:14</td>\n",
       "      <td>2016-01-04 21:23:18</td>\n",
       "      <td>1</td>\n",
       "      <td>-73.975418</td>\n",
       "      <td>40.750423</td>\n",
       "      <td>-73.974564</td>\n",
       "      <td>40.761631</td>\n",
       "      <td>N</td>\n",
       "      <td>304</td>\n",
       "    </tr>\n",
       "    <tr>\n",
       "      <th>4</th>\n",
       "      <td>901159</td>\n",
       "      <td>id3953774</td>\n",
       "      <td>1</td>\n",
       "      <td>2016-05-12 21:00:14</td>\n",
       "      <td>2016-05-12 21:07:08</td>\n",
       "      <td>1</td>\n",
       "      <td>-73.995155</td>\n",
       "      <td>40.745350</td>\n",
       "      <td>-73.992485</td>\n",
       "      <td>40.756195</td>\n",
       "      <td>N</td>\n",
       "      <td>414</td>\n",
       "    </tr>\n",
       "  </tbody>\n",
       "</table>\n",
       "</div>"
      ],
      "text/plain": [
       "   Unnamed: 0         id  vendor_id      pickup_datetime     dropoff_datetime  \\\n",
       "0      133824  id3174676          2  2016-01-02 18:09:46  2016-01-02 18:20:39   \n",
       "1      923482  id1536515          1  2016-02-20 02:01:14  2016-02-20 02:14:35   \n",
       "2      244194  id0509364          1  2016-01-21 09:32:22  2016-01-21 09:47:44   \n",
       "3     1416196  id3372978          1  2016-01-04 21:18:14  2016-01-04 21:23:18   \n",
       "4      901159  id3953774          1  2016-05-12 21:00:14  2016-05-12 21:07:08   \n",
       "\n",
       "   passenger_count  pickup_longitude  pickup_latitude  dropoff_longitude  \\\n",
       "0                1        -73.985878        40.745041         -74.007378   \n",
       "1                1        -73.993668        40.741623         -73.952652   \n",
       "2                1        -73.954178        40.770271         -73.965828   \n",
       "3                1        -73.975418        40.750423         -73.974564   \n",
       "4                1        -73.995155        40.745350         -73.992485   \n",
       "\n",
       "   dropoff_latitude store_and_fwd_flag  trip_duration  \n",
       "0         40.727280                  N            653  \n",
       "1         40.791012                  Y            801  \n",
       "2         40.759613                  N            922  \n",
       "3         40.761631                  N            304  \n",
       "4         40.756195                  N            414  "
      ]
     },
     "execution_count": 3,
     "metadata": {},
     "output_type": "execute_result"
    }
   ],
   "source": [
    "df = pd.read_csv(subset_dataset_csv)\n",
    "df.head()"
   ]
  },
  {
   "cell_type": "code",
   "execution_count": 4,
   "metadata": {},
   "outputs": [
    {
     "name": "stdout",
     "output_type": "stream",
     "text": [
      "Number of null values in the dataset: 0\n"
     ]
    }
   ],
   "source": [
    "# Drop the column C0 as it corresponds to the row number from the original csv file\n",
    "df = df.drop(['Unnamed: 0'], axis=1)\n",
    "\n",
    "# Drop the column store_and_fwd_flag as we hypothesize that it will not affect the trip duration\n",
    "df = df.drop(['store_and_fwd_flag'], axis=1)\n",
    "df.describe()\n",
    "print(f\"Number of null values in the dataset: {df.isnull().any().sum()}\")"
   ]
  },
  {
   "cell_type": "code",
   "execution_count": 5,
   "metadata": {},
   "outputs": [],
   "source": [
    "def one_hot_encoding(column):\n",
    "    ohe_enc = OneHotEncoder(sparse=False)\n",
    "    ohe_enc.fit(column)\n",
    "    result = ohe_enc.transform(column)\n",
    "    return result"
   ]
  },
  {
   "cell_type": "code",
   "execution_count": 6,
   "metadata": {},
   "outputs": [],
   "source": [
    "def encode_cyclic_values(data, max_val, col_name):\n",
    "    encoded_data = pd.DataFrame()\n",
    "    # Sine transformation\n",
    "    encoded_data[col_name + '_sin'] = np.sin(2* np.pi * data / max_val)\n",
    "    # Cos transformation\n",
    "    encoded_data[col_name + '_cos'] = np.cos(2 * np.pi * data / max_val)\n",
    "    return encoded_data"
   ]
  },
  {
   "cell_type": "code",
   "execution_count": 7,
   "metadata": {},
   "outputs": [],
   "source": [
    "def label_encode_bearing(bearing_values):\n",
    "    # North is between -45.0 and 45.0. Label: 1\n",
    "    bearing_values[np.logical_and(bearing_values>=-45.0, bearing_values<45.0)] = 1.0\n",
    "\n",
    "    # East is between 45.0 and 135.0 Label: 2\n",
    "    bearing_values[np.logical_and(bearing_values>=45.0, bearing_values<135.0)] = 2.0\n",
    "    \n",
    "    # South is between -135.0 to -180.0 and 135.0 to 180.0 Label: 3\n",
    "    bearing_values[np.logical_and(bearing_values<-135.0, bearing_values>=-180.0)] = 3.0\n",
    "    bearing_values[np.logical_and(bearing_values>=135.0, bearing_values<=180.0)] = 3.0\n",
    "    \n",
    "    # West is between -45.0 and -135.0 Label: 4\n",
    "    bearing_values[np.logical_and(bearing_values<-45.0, bearing_values>=-135.0)] = 4.0\n",
    "    return bearing_values"
   ]
  },
  {
   "cell_type": "code",
   "execution_count": 8,
   "metadata": {},
   "outputs": [],
   "source": [
    "def preprocess_datetime_values(column):\n",
    "    # Split the datetime value into date and time components\n",
    "    date_time_values = pd.DataFrame()\n",
    "    # Split the datetime column into 2 columns: date and time\n",
    "    temp = column.str.split(' ')\n",
    "    date_time_values['date'] = temp.str[0]\n",
    "    date_time_values['time'] = temp.str[1]\n",
    "    \n",
    "    # Extract the year value from the dates\n",
    "    date_time_values['year'] = date_time_values['date'].str.split('-').str[0]\n",
    "    \n",
    "    # Get day# of the year from the dates and perform sin, cos transformations\n",
    "    dates = pd.to_datetime(date_time_values['date'])\n",
    "    date_time_values['day_number'] = pd.to_numeric(dates.dt.strftime('%j'))\n",
    "    encoded_dates = encode_cyclic_values(date_time_values['day_number'], 366, 'day_number')\n",
    "    date_time_values['day_number_sin'] = encoded_dates['day_number_sin']\n",
    "    date_time_values['day_number_cos'] = encoded_dates['day_number_cos']\n",
    "    \n",
    "    # Convert time into seconds past midnight and perform sin, cos transformations\n",
    "    temp = date_time_values['time'].str.split(':')\n",
    "    date_time_values['hour'] = pd.to_numeric(temp.str[0])\n",
    "    date_time_values['minute'] = pd.to_numeric(temp.str[1])\n",
    "    date_time_values['second'] = pd.to_numeric(temp.str[2])\n",
    "    date_time_values['seconds_past_midnight'] = (date_time_values['hour']*3600) + ((date_time_values['minute']*60)) + (date_time_values['second']) \n",
    "    encoded_times = encode_cyclic_values(date_time_values['seconds_past_midnight'], 86400, 'time')\n",
    "    date_time_values['time_sin'] = encoded_times['time_sin']\n",
    "    date_time_values['time_cos'] = encoded_times['time_cos']\n",
    "    \n",
    "    return date_time_values"
   ]
  },
  {
   "cell_type": "code",
   "execution_count": 9,
   "metadata": {},
   "outputs": [],
   "source": [
    "def haversine(pickup_lat, pickup_long, dropoff_lat, dropoff_long):\n",
    "    radius_of_earth = 6378.1  # In km\n",
    "    lat_delta = dropoff_lat - pickup_lat\n",
    "    lon_delta = dropoff_long - pickup_long\n",
    "    d = np.sin(lat_delta*0.5)**2 + np.cos(pickup_lat) * np.cos(dropoff_lat) * np.sin(lon_delta*0.5)**2\n",
    "    haversine_values = 2 * radius_of_earth * np.arcsin(np.sqrt(d))\n",
    "    haversine_values = np.reshape(haversine_values, (haversine_values.shape[0],1))\n",
    "    return haversine_values"
   ]
  },
  {
   "cell_type": "code",
   "execution_count": 10,
   "metadata": {},
   "outputs": [],
   "source": [
    "# Get latitude dist with long_delta = 0. Then get lon dist with lat_delta = 0. \n",
    "# Then add both values to get the the manhattan distance wrt to lat & long coordinates.\n",
    "# Reference: https://stackoverflow.com/questions/32923363/manhattan-distance-for-two-geolocations\n",
    "\n",
    "def manhattan_distance(pickup_lat, pickup_long, dropoff_lat, dropoff_long):\n",
    "    lat_distance = haversine(pickup_lat, pickup_long, dropoff_lat, pickup_long)\n",
    "    long_distance = haversine(pickup_lat, pickup_long, pickup_lat, dropoff_long)\n",
    "    man_dist = lat_distance + long_distance\n",
    "    return man_dist"
   ]
  },
  {
   "cell_type": "code",
   "execution_count": 11,
   "metadata": {},
   "outputs": [],
   "source": [
    "def bearing(pickup_lat, pickup_long, dropoff_lat, dropoff_long):\n",
    "    radius_of_earth = 6378.1  # In km\n",
    "    lon_delta = dropoff_long - pickup_long\n",
    "    y = np.sin(lon_delta) * np.cos(dropoff_lat)\n",
    "    x = np.cos(pickup_lat) * np.sin(dropoff_lat) - np.sin(pickup_lat) * np.cos(dropoff_lat) * np.cos(lon_delta)\n",
    "    bearing_values = np.degrees(np.arctan2(y, x))\n",
    "    bearing_values = np.reshape(bearing_values, (bearing_values.shape[0],1))\n",
    "    label_enc_bearing_values = label_encode_bearing(bearing_values)\n",
    "    ohe_enc_bearing_values = one_hot_encoding(label_enc_bearing_values)\n",
    "    return ohe_enc_bearing_values"
   ]
  },
  {
   "cell_type": "code",
   "execution_count": 12,
   "metadata": {},
   "outputs": [],
   "source": [
    "def preprocess_geospatial_values(data):\n",
    "    # Columns after converting df to np array:\n",
    "    # 0: pickup_latitude, 1: pickup_longitude, 2: dropoff_latitude, 3: dropoff_longitude\n",
    "    data_radians = np.radians(data)\n",
    "    \n",
    "    # Haversine formula to calculate the distance between the 2 coordinates\n",
    "    enc_geospatial_data = haversine(data_radians[:,0], data_radians[:,1], data_radians[:,2], data_radians[:,3])\n",
    "    \n",
    "    # Manhattan distance between the pickup and dropoff coordinates\n",
    "    man_dist = manhattan_distance(data_radians[:,0], data_radians[:,1], data_radians[:,2], data_radians[:,3])\n",
    "    enc_geospatial_data = np.append(enc_geospatial_data, man_dist, axis=1)\n",
    "    \n",
    "    # Calculate the bearing (i.e direction) between the coordinates. Then, perform O-H-E.\n",
    "    bearing_values = bearing(data_radians[:,0], data_radians[:,1], data_radians[:,2], data_radians[:,3])\n",
    "    enc_geospatial_data = np.append(enc_geospatial_data, bearing_values, axis=1)\n",
    "    \n",
    "    # Calculate the center-points of the latitudes and longitudes (in degrees)\n",
    "    latitude_centers = data[:,2] - data[:,0]\n",
    "    longitude_centers = data[:,3] - data[:,1]\n",
    "    latitude_centers = np.reshape(latitude_centers, (latitude_centers.shape[0],1))\n",
    "    longitude_centers = np.reshape(longitude_centers, (longitude_centers.shape[0],1))\n",
    "    enc_geospatial_data = np.append(enc_geospatial_data, latitude_centers, axis=1)\n",
    "    enc_geospatial_data = np.append(enc_geospatial_data, longitude_centers,axis=1)\n",
    "    return enc_geospatial_data"
   ]
  },
  {
   "cell_type": "code",
   "execution_count": 13,
   "metadata": {},
   "outputs": [],
   "source": [
    "def remove_spurious_data(raw_data):\n",
    "    # Decided on a threshold time of 20000 seconds for a trip after analysing the dataset\n",
    "    threshold_of_trip_time = 20000\n",
    "    \n",
    "    # Remove records with null values from the dataset\n",
    "    print(f\"Number of null values in the dataset: {raw_data.isnull().any().sum()}\")\n",
    "    raw_data = raw_data[raw_data.notnull()]\n",
    "    \n",
    "    # Remove records with trip times greater than the given threshold\n",
    "    raw_data = raw_data[raw_data.trip_duration < 20000]\n",
    "    return raw_data"
   ]
  },
  {
   "cell_type": "code",
   "execution_count": 14,
   "metadata": {},
   "outputs": [],
   "source": [
    "def preprocess_data(raw_data):\n",
    "    # Add the id column without any pre-processing\n",
    "    clean_data = np.array(raw_data['id'])\n",
    "    clean_data = np.reshape(clean_data, (clean_data.shape[0],1))\n",
    "    \n",
    "    # One-hot-encode the vendor_id column\n",
    "    vendor_id_raw = np.array(raw_data['vendor_id'])\n",
    "    vendor_id_raw = np.reshape(vendor_id_raw, (vendor_id_raw.shape[0],1))\n",
    "    vendor_id_clean = one_hot_encoding(vendor_id_raw)\n",
    "    clean_data = np.append(clean_data, vendor_id_clean, axis=1)\n",
    "    \n",
    "    # For pickup_datetime column, split the datetime field and:\n",
    "    #  i.  Retain year as a seperate feature\n",
    "    # ii.  Combine month and date to get day# and perform sine & cos encoding on it\n",
    "    # iii. Convert time to seconds_past_midnight and perform sine & cos encoding on it\n",
    "    pickup_datetime_split = preprocess_datetime_values(raw_data['pickup_datetime'])\n",
    "    \n",
    "    # Add year column after O-H-E\n",
    "    year_values = np.array(pickup_datetime_split['year'])\n",
    "    year_values = np.reshape(year_values, (year_values.shape[0],1))\n",
    "    year_values_OHE = one_hot_encoding(year_values)\n",
    "    clean_data = np.append(clean_data, year_values_OHE, axis=1)\n",
    "    \n",
    "    # Add day_number_sin column\n",
    "    day_number_sin = np.array(pickup_datetime_split['day_number_sin'])\n",
    "    day_number_sin = np.reshape(day_number_sin, (day_number_sin.shape[0],1))\n",
    "    clean_data = np.append(clean_data, day_number_sin, axis=1)\n",
    "    \n",
    "    # Add day_number_cos column\n",
    "    day_number_cos = np.array(pickup_datetime_split['day_number_cos'])\n",
    "    day_number_cos = np.reshape(day_number_cos, (day_number_cos.shape[0],1))\n",
    "    clean_data = np.append(clean_data, day_number_cos, axis=1)\n",
    "    \n",
    "    # Add time_sin column\n",
    "    pickup_time_sine = np.array(pickup_datetime_split['time_sin'])\n",
    "    pickup_time_sine = np.reshape(pickup_time_sine, (pickup_time_sine.shape[0],1))\n",
    "    clean_data = np.append(clean_data, pickup_time_sine,axis=1)\n",
    "    \n",
    "    # Add time_cos column\n",
    "    pickup_time_cos = np.array(pickup_datetime_split['time_cos'])\n",
    "    pickup_time_cos = np.reshape(pickup_time_cos, (pickup_time_cos.shape[0],1))\n",
    "    clean_data = np.append(clean_data, pickup_time_cos, axis=1)\n",
    "    \n",
    "    # For dropoff_datetime column, split the datetime field and\n",
    "    # perform the same actions as performed on pickup_datetime\n",
    "    dropoff_datetime_split = preprocess_datetime_values(raw_data['dropoff_datetime'])\n",
    "    \n",
    "    # Add year column after O-H-E\n",
    "    year_values = np.array(dropoff_datetime_split['year'])\n",
    "    year_values = np.reshape(year_values, (year_values.shape[0],1))\n",
    "    year_values_OHE = one_hot_encoding(year_values)\n",
    "    clean_data = np.append(clean_data, year_values_OHE, axis=1)\n",
    "    \n",
    "    # Add day_number_sin column\n",
    "    day_number_sin = np.array(dropoff_datetime_split['day_number_sin'])\n",
    "    day_number_sin = np.reshape(day_number_sin, (day_number_sin.shape[0],1))\n",
    "    clean_data = np.append(clean_data, day_number_sin, axis=1)\n",
    "    \n",
    "    # Add day_number_cos column\n",
    "    day_number_cos = np.array(dropoff_datetime_split['day_number_cos'])\n",
    "    day_number_cos = np.reshape(day_number_cos, (day_number_cos.shape[0],1))\n",
    "    clean_data = np.append(clean_data, day_number_cos, axis=1)\n",
    "    \n",
    "    # Add time_sin column\n",
    "    dropoff_time_sine = np.array(dropoff_datetime_split['time_sin'])\n",
    "    dropoff_time_sine = np.reshape(dropoff_time_sine, (dropoff_time_sine.shape[0],1))\n",
    "    clean_data = np.append(clean_data, dropoff_time_sine,axis=1)\n",
    "    \n",
    "    # Add time_cos column\n",
    "    dropoff_time_cos = np.array(dropoff_datetime_split['time_cos'])\n",
    "    dropoff_time_cos = np.reshape(dropoff_time_cos, (dropoff_time_cos.shape[0],1))\n",
    "    clean_data = np.append(clean_data, dropoff_time_cos, axis=1)\n",
    "    \n",
    "    # Add passenger_count column without any preprocessing\n",
    "    passenger_count = np.array(raw_data['passenger_count'])\n",
    "    passenger_count = np.reshape(passenger_count, (passenger_count.shape[0],1))\n",
    "    clean_data = np.append(clean_data, passenger_count, axis=1)\n",
    "    \n",
    "    # To encode geo-spatial data, the following techniques have been used:\n",
    "    #   i. Haversine formula: https://plus.maths.org/content/lost-lovely-haversine\n",
    "    #  ii. Manhattan distance: https://xlinux.nist.gov/dads/HTML/manhattanDistance.html\n",
    "    # iii. Bearing: https://www.igismap.com/formula-to-find-bearing-or-heading-angle-between-two-points-latitude-longitude/\n",
    "    #  iv. Center lat and long b/w pickup and dropoff points\n",
    "    # Reference: https://mlwhiz.com/blog/2017/09/14/kaggle_tricks/\n",
    "    raw_geospatial_data = np.array(raw_data[['pickup_latitude', 'pickup_longitude', 'dropoff_latitude', 'dropoff_longitude']])\n",
    "    encoded_geospatial_data = preprocess_geospatial_values(raw_geospatial_data)\n",
    "    clean_data = np.append(clean_data, encoded_geospatial_data, axis=1)\n",
    "    \n",
    "    # Add the trip_duration column as it is, without any preprocessing. This is the label.\n",
    "    labels_column = np.array(raw_data['trip_duration'])\n",
    "    labels_column = np.reshape(labels_column, (labels_column.shape[0],1))\n",
    "    clean_data = np.append(clean_data, labels_column, axis=1)\n",
    "    \n",
    "    return clean_data"
   ]
  },
  {
   "cell_type": "code",
   "execution_count": 15,
   "metadata": {},
   "outputs": [
    {
     "data": {
      "text/plain": [
       "<matplotlib.axes._subplots.AxesSubplot at 0x7f16abc2ce10>"
      ]
     },
     "execution_count": 15,
     "metadata": {},
     "output_type": "execute_result"
    },
    {
     "data": {
      "image/png": "[encoded data removed]",
      "text/plain": [
       "<Figure size 1152x288 with 2 Axes>"
      ]
     },
     "metadata": {},
     "output_type": "display_data"
    }
   ],
   "source": [
    "# Distribution of trip durations\n",
    "duration = [df['trip_duration'].values]\n",
    "f, axes = plt.subplots(1,2, figsize=(16,4), sharex=True)\n",
    "sns.despine(left=True)\n",
    "sns.distplot(duration, ax=axes[0])\n",
    "sns.boxplot(duration, ax=axes[1])"
   ]
  },
  {
   "cell_type": "code",
   "execution_count": 16,
   "metadata": {},
   "outputs": [
    {
     "name": "stdout",
     "output_type": "stream",
     "text": [
      "(145864, 10)\n",
      "Number of null values in the dataset: 0\n",
      "(145667, 10)\n",
      "['id3174676' 0.0 1.0 1.0 0.034327600513243496 0.9994106342455052\n",
      " -0.9990921130739061 0.04260222521790595 1.0 0.034327600513243496\n",
      " 0.9994106342455052 -0.9959435041941422 0.08998075601756532 1\n",
      " 2.6828768541061803 3.7903860558494964 0.0 0.0 1.0 0.0 -0.01776123046875\n",
      " -0.02149963378907671 653]\n"
     ]
    }
   ],
   "source": [
    "# The data has been preprocessed\n",
    "print(df.shape)\n",
    "df2 = remove_spurious_data(df)\n",
    "print(df2.shape)\n",
    "clean_data = preprocess_data(df2)\n",
    "print(clean_data[0])"
   ]
  },
  {
   "cell_type": "code",
   "execution_count": 17,
   "metadata": {},
   "outputs": [
    {
     "name": "stdout",
     "output_type": "stream",
     "text": [
      "[1.0]\n"
     ]
    }
   ],
   "source": [
    "print(np.unique(clean_data[:,3]))"
   ]
  },
  {
   "cell_type": "code",
   "execution_count": 18,
   "metadata": {},
   "outputs": [],
   "source": [
    "# Split into data and labels\n",
    "data = clean_data[:,:-1]\n",
    "labels = clean_data[:,-1]\n",
    "\n",
    "# Split the data into train and validation datasets\n",
    "X_train, X_val, y_train, y_val = train_test_split(data, labels, test_size=0.2, random_state=42)"
   ]
  },
  {
   "cell_type": "code",
   "execution_count": 19,
   "metadata": {},
   "outputs": [
    {
     "name": "stdout",
     "output_type": "stream",
     "text": [
      "Mean absolute error with Linear Regression is: [-151650.83660755 -161018.26084484 -250389.05378367 -237691.98844644\n",
      " -144618.95369183 -144729.44795361 -178010.31262386 -144637.26050024\n",
      " -140189.09369832 -157077.53605079]\n",
      "\n",
      "Mean absolute error for MLP is: [-112338.04527051 -120385.32787795 -101679.68674254  -93990.05703954\n",
      " -110141.57500794 -109000.84106855 -147443.46506806 -114509.12379815\n",
      " -105045.12869099 -120344.71719573]\n",
      "\n",
      "Mean absolute error with Decision Tree Regressor is: [-216029.54685247 -195558.84210888 -208846.70611656 -175365.93814787\n",
      " -187213.45575616 -195501.59099334 -231929.86730281 -202987.01901689\n",
      " -187006.63469724 -189647.335576  ]\n",
      "\n",
      "Mean absolute error with Random Forest Regressor is: [-113560.50764468 -120298.32229903 -108547.18873344 -101679.14733576\n",
      " -108202.89972197 -103782.04811217 -135897.24659642 -114537.08029383\n",
      "  -97970.50624743 -107796.4854792 ]\n"
     ]
    }
   ],
   "source": [
    "# Use cross validation to find a model that gives the least error (using mean absolute error)\n",
    "\n",
    "# Linear Regression on the model\n",
    "lin_reg_cv_score = cross_val_score(LinearRegression(), data[:,1:], labels, scoring=\"neg_mean_squared_error\", cv=10, n_jobs=-1)\n",
    "print(f\"Mean absolute error with Linear Regression is: {lin_reg_cv_score}\\n\")\n",
    "\n",
    "# MLP on the model\n",
    "mlp_cv_score = cross_val_score(MLPRegressor(), data[:,1:], labels, scoring='neg_mean_squared_error', cv=10, n_jobs=-1)\n",
    "print(f\"Mean absolute error for MLP is: {mlp_cv_score}\\n\")\n",
    "\n",
    "# Decision Tree Regressor\n",
    "tree_reg_cv_score = cross_val_score(DecisionTreeRegressor(), data[:,1:], labels, scoring=\"neg_mean_squared_error\", cv=10, n_jobs=-1)\n",
    "print(f\"Mean absolute error with Decision Tree Regressor is: {tree_reg_cv_score}\\n\")\n",
    "\n",
    "# Random Forest Regressor\n",
    "forest_reg_cv_score = cross_val_score(RandomForestRegressor(), data[:,1:], labels, scoring=\"neg_mean_squared_error\", cv=10, n_jobs=-1)\n",
    "print(f\"Mean absolute error with Random Forest Regressor is: {forest_reg_cv_score}\")"
   ]
  },
  {
   "cell_type": "code",
   "execution_count": 33,
   "metadata": {},
   "outputs": [
    {
     "data": {
      "text/plain": [
       "[<matplotlib.lines.Line2D at 0x7f169fbc6278>]"
      ]
     },
     "execution_count": 33,
     "metadata": {},
     "output_type": "execute_result"
    },
    {
     "data": {
      "image/png": "[encoded data removed]",
      "text/plain": [
       "<Figure size 432x288 with 1 Axes>"
      ]
     },
     "metadata": {},
     "output_type": "display_data"
    }
   ],
   "source": [
    "plt.plot(lin_reg_cv_score, 'y')\n",
    "plt.plot(mlp_cv_score, 'r')\n",
    "plt.plot(tree_reg_cv_score, 'g')\n",
    "plt.plot(forest_reg_cv_score, 'c')\n"
   ]
  },
  {
   "cell_type": "markdown",
   "metadata": {},
   "source": [
    "As seen from the above error graph, MLP (red) and Random Forest Regressor (cyan) give the least error (RMSE). Comparing the errors between them:"
   ]
  },
  {
   "cell_type": "code",
   "execution_count": 34,
   "metadata": {},
   "outputs": [
    {
     "name": "stdout",
     "output_type": "stream",
     "text": [
      "Number of times Random Forest gave lesser error than MLP: 6\n",
      "Number of times MLP gave lesser error than Random Forest: 4\n"
     ]
    },
    {
     "data": {
      "image/png": "[encoded data removed]",
      "text/plain": [
       "<Figure size 432x288 with 1 Axes>"
      ]
     },
     "metadata": {},
     "output_type": "display_data"
    }
   ],
   "source": [
    "# Compare error\n",
    "plt.plot(mlp_cv_score)\n",
    "plt.plot(forest_reg_cv_score)\n",
    "forest_count = 0;\n",
    "mlp_count = 0\n",
    "\n",
    "for forest,mlp in zip(mlp_cv_score, forest_reg_cv_score):\n",
    "    if forest > mlp:\n",
    "        mlp_count += 1\n",
    "    else:\n",
    "        forest_count += 1\n",
    "print(f\"Number of times Random Forest gave lesser error than MLP: {forest_count}\")\n",
    "print(f\"Number of times MLP gave lesser error than Random Forest: {mlp_count}\")"
   ]
  },
  {
   "cell_type": "markdown",
   "metadata": {},
   "source": [
    "We see that RF performs better than MLP, but only just. Hence, let's choose both models and see the results of making an ensemble out of them."
   ]
  },
  {
   "cell_type": "code",
   "execution_count": null,
   "metadata": {},
   "outputs": [
    {
     "name": "stdout",
     "output_type": "stream",
     "text": [
      "2019-06-20 23:00:08.266957\n"
     ]
    }
   ],
   "source": [
    "# Since Random Forest Regressor gives the lowest error among all models, we will use\n",
    "# GridSearchCV to tune the hyper-parameters for RF Regressor and minimize the error\n",
    "\n",
    "print(datetime.now())\n",
    "\n",
    "rf_parameters = {'n_estimators':[10,50,100,200,500,750], 'criterion':['mse','mae'],\n",
    "                 'max_depth':[20,50,100,None], 'min_samples_leaf':[2,5,10,20]}\n",
    "rf_gsc = GridSearchCV(RandomForestRegressor(), param_grid=rf_parameters, scoring=\"neg_mean_squared_error\", cv=5, n_jobs=-1)\n",
    "grid_search_result = rf_gsc.fit(X_train[:1000,1:],y_train[:1000])\n",
    "print(f\"The best set of hyper-parameters are: {grid_search_result.best_params_}\")\n",
    "\n",
    "print(datetime.now())"
   ]
  },
  {
   "cell_type": "code",
   "execution_count": null,
   "metadata": {},
   "outputs": [],
   "source": []
  }
 ],
 "metadata": {
  "kernelspec": {
   "display_name": "Python 3",
   "language": "python",
   "name": "python3"
  },
  "language_info": {
   "codemirror_mode": {
    "name": "ipython",
    "version": 3
   },
   "file_extension": ".py",
   "mimetype": "text/x-python",
   "name": "python",
   "nbconvert_exporter": "python",
   "pygments_lexer": "ipython3",
   "version": "3.6.5"
  }
 },
 "nbformat": 4,
 "nbformat_minor": 2
}
